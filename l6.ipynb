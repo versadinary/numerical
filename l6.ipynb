{
 "cells": [
  {
   "cell_type": "code",
   "execution_count": 1,
   "id": "b84b630b-779c-44bb-9492-d427d3ca76ac",
   "metadata": {},
   "outputs": [],
   "source": [
    "import numpy as np\n",
    "from random import randint"
   ]
  },
  {
   "cell_type": "code",
   "execution_count": 17,
   "id": "ad6599fa-18d0-44d9-beb4-c19fef4aff2b",
   "metadata": {},
   "outputs": [],
   "source": [
    "# 1\n",
    "\n",
    "def prod(m1, m2):\n",
    "    n, m, p = len(m1), len(m1[0]), len(m2[0])\n",
    "    m3 = [[0 for k in range(p)] for i in range(n)]\n",
    "    for i in range(n):\n",
    "        for j in range(p):\n",
    "            s = 0\n",
    "            for k in range(m):\n",
    "                s += m1[i][k] * m2[k][j]\n",
    "            m3[i][j] = s\n",
    "    return m3\n",
    "\n",
    "def det(m):\n",
    "    s = 0\n",
    "    a, b = len(m), len(m[0])\n",
    "    if (a == 2): return m[0][0] * m[1][1] - m[1][0] * m[0][1]\n",
    "    for i in range(b):\n",
    "        s += (-1)**(i) * m[0][i] * det([[m[x][y] for y in range(b) if y != i] for x in range(1, a)])\n",
    "    return s\n",
    "\n",
    "def inv(m):\n",
    "    a, b = len(m), len(m[0])\n",
    "    d = det(m)\n",
    "    m_inv = [[0 for k in range(b)] for i in range(a)]\n",
    "    for i in range(a):\n",
    "        for k in range(b):\n",
    "            m_inv[i][k] = (-1)**(i + k) * det([[m[x][y] for y in range(b) if y != k] for x in range(a) if x != i])\n",
    "    return [[m_inv[k][i] / d for k in range(b)] for i in range(a)]\n"
   ]
  },
  {
   "cell_type": "code",
   "execution_count": 18,
   "id": "a0631685-b657-4998-88fa-73fdba23c96f",
   "metadata": {},
   "outputs": [
    {
     "name": "stdout",
     "output_type": "stream",
     "text": [
      "[-1.866421996684164]\n",
      "[2.053988104315998]\n",
      "[1.086777489705658]\n",
      "\n",
      "[[-1.866422  ]\n",
      " [ 2.0539881 ]\n",
      " [ 1.08677749]]\n"
     ]
    }
   ],
   "source": [
    "n = 3\n",
    "A = [[randint(-100, 100) for k in range(n)] for i in range(n)]\n",
    "f = [[randint(-100, 100)] for i in range(n)]\n",
    "\n",
    "# inverse\n",
    "x = prod(inv(A), f)\n",
    "x1 = np.linalg.solve(A, f)\n",
    "print(*x, sep='\\n')\n",
    "print()\n",
    "print(x1)\n"
   ]
  },
  {
   "cell_type": "code",
   "execution_count": 19,
   "id": "e8ab127a-994f-4992-9e16-55a3f84ae601",
   "metadata": {},
   "outputs": [],
   "source": [
    "# kramer\n",
    "\n",
    "def kramer(a, f):\n",
    "    n, m = len(a), len(a[0])\n",
    "    x = [0 for i in range(n)]\n",
    "    d = det(a)\n",
    "    for i in range(m):\n",
    "        x[i] = det([[a[x][y] if y != i else f[x][0] for y in range(m)] for x in range(n)]) / d\n",
    "    return x\n"
   ]
  },
  {
   "cell_type": "code",
   "execution_count": 20,
   "id": "bcefddf1-4d58-41d9-a1b8-a97080705011",
   "metadata": {},
   "outputs": [
    {
     "name": "stdout",
     "output_type": "stream",
     "text": [
      "1.1349624909440752\n",
      "-1.4146678715266148\n",
      "-1.3861095747415653\n",
      "\n",
      "[1.13496249]\n",
      "[-1.41466787]\n",
      "[-1.38610957]\n"
     ]
    }
   ],
   "source": [
    "n = 3\n",
    "A = [[randint(-100, 100) for k in range(n)] for i in range(n)]\n",
    "f = [[randint(-100, 100)] for i in range(n)]\n",
    "\n",
    "\n",
    "x = kramer(A, f)\n",
    "x1 = np.linalg.solve(A, f)\n",
    "print(*x, sep='\\n')\n",
    "print()\n",
    "print(*x1, sep='\\n')\n"
   ]
  },
  {
   "cell_type": "code",
   "execution_count": 31,
   "id": "53b46746-447f-49fb-922b-0bc6a9447f07",
   "metadata": {},
   "outputs": [],
   "source": [
    "# 2\n",
    "import copy\n",
    "\n",
    "def gauss(a, f):\n",
    "    a = list(copy.deepcopy(a))\n",
    "    f = list(copy.deepcopy(f))\n",
    "    n = len(a)\n",
    "    for i in range(n - 1):\n",
    "        for j in range(i, n - 1):\n",
    "            tmp = a[j + 1][i]\n",
    "            for k in range(i, n):\n",
    "                a[j + 1][k] += a[i][k] * (-tmp / a[i][i])\n",
    "            f[j + 1][0] += f[i][0] * (-tmp / a[i][i])\n",
    "    \n",
    "    x = [f[-1][0] / a[-1][-1]] + [.0 for i in range(n - 1)]\n",
    "    for i in range(1, n):\n",
    "        numerator = 0\n",
    "        for j in range(i):\n",
    "            numerator += x[j] * a[n - 1 - i][n - 1 - j]\n",
    "        x[i] = (f[n - 1 - i][0] - numerator) / a[n - 1 - i][n - 1 - i]\n",
    "        \n",
    "    return x[::-1]\n",
    "\n",
    "def gauss2(a, f):\n",
    "    a = list(copy.deepcopy(a))\n",
    "    f = list(copy.deepcopy(f))\n",
    "    n, m = len(a), len(a[0])\n",
    "    perm = list(range(m))\n",
    "    for i in range(n):\n",
    "        mx, ind_i, ind_k = 0, 0, 0\n",
    "        \n",
    "        for j in range(i, n):\n",
    "            for k in range(i, m):\n",
    "                if (j == k == i):\n",
    "                    mx = a[j][k]\n",
    "                    ind_i, ind_k = i, i\n",
    "                if (np.abs(a[j][k]) > np.abs(mx)):\n",
    "                    mx = a[j][k]\n",
    "                    ind_i, ind_k = j, k\n",
    "                    \n",
    "        for j in range(i, m):\n",
    "            tmp = a[i][j]\n",
    "            a[i][j] = a[ind_i][j]\n",
    "            a[ind_i][j] = tmp\n",
    "\n",
    "        for j in range(n):\n",
    "            tmp = a[j][i]\n",
    "            a[j][i] = a[j][ind_k]\n",
    "            a[j][ind_k] = tmp\n",
    "        tmp = f[i][0]\n",
    "        f[i][0] = f[ind_i][0]\n",
    "        f[ind_i][0] = tmp\n",
    "        perm[i], perm[ind_k] = perm[ind_k], perm[i]\n",
    "        \n",
    "\n",
    "        for j in range(i, n - 1):\n",
    "            tmp = a[j + 1][i]\n",
    "            for k in range(i, n):\n",
    "                a[j + 1][k] += a[i][k] * (-tmp / a[i][i])\n",
    "            f[j + 1][0] += f[i][0] * (-tmp / a[i][i]) \n",
    "\n",
    "\n",
    "    x = [f[-1][0] / a[-1][-1]] + [.0 for i in range(n - 1)]\n",
    "    for i in range(1, n):\n",
    "        numerator = 0\n",
    "        for j in range(i):\n",
    "            numerator += x[j] * a[n - 1 - i][n - 1 - j]\n",
    "        x[i] = (f[n - 1 - i][0] - numerator) / a[n - 1 - i][n - 1 - i]\n",
    "    x = x[::-1]\n",
    "    x_corr = [0.0 for _ in range(n)]\n",
    "    for i in range(n):\n",
    "        x_corr[perm[i]] = x[i]\n",
    "    return x_corr\n"
   ]
  },
  {
   "cell_type": "code",
   "execution_count": 32,
   "id": "aa743483-d78a-4459-88d8-e0af8dc1d223",
   "metadata": {},
   "outputs": [
    {
     "name": "stdout",
     "output_type": "stream",
     "text": [
      "[[-1.97352158]\n",
      " [-1.69685241]\n",
      " [ 0.19666684]\n",
      " [ 0.66554465]\n",
      " [-1.82327682]\n",
      " [-0.25359206]\n",
      " [ 1.88742125]\n",
      " [-1.10677911]\n",
      " [ 2.52228471]\n",
      " [-3.25866824]]\n",
      "-1.9735215751736699\n",
      "-1.6968524122565096\n",
      "0.1966668422083974\n",
      "0.6655446478266533\n",
      "-1.8232768158870025\n",
      "-0.25359205974543697\n",
      "1.8874212504835781\n",
      "-1.1067791060541747\n",
      "2.5222847052146227\n",
      "-3.2586682362810975\n"
     ]
    }
   ],
   "source": [
    "n = 10\n",
    "A = [[randint(-100, 100) for k in range(n)] for i in range(n)]\n",
    "f = [[randint(-100, 100)] for i in range(n)]\n",
    "print(np.linalg.solve(A, f))\n",
    "print(*gauss2(A, f), sep='\\n')"
   ]
  },
  {
   "cell_type": "code",
   "execution_count": 26,
   "id": "dc53b804-e41b-400e-91cf-73ee80ab522e",
   "metadata": {},
   "outputs": [
    {
     "name": "stdout",
     "output_type": "stream",
     "text": [
      "1.6431300764452317e-13\n",
      "2.566835632933362e-13\n",
      "2.078337502098293e-13\n",
      "1.5987211554602254e-13\n",
      "7.571721027943568e-14\n",
      "1.8074430840897548e-13\n",
      "4.4586556668946287e-13\n",
      "2.042810365310288e-13\n",
      "1.8962609260597674e-13\n",
      "2.113864638886298e-13\n",
      "3.455014052633487e-13\n",
      "1.545430450278218e-13\n",
      "1.4477308241112041e-13\n",
      "6.084022174945858e-14\n",
      "2.7000623958883807e-13\n"
     ]
    }
   ],
   "source": [
    "\"Precision test\"\n",
    "\n",
    "n = 15\n",
    "A = [[randint(-100, 100) for k in range(n)] for i in range(n)]\n",
    "f = [[randint(-100, 100)] for i in range(n)]\n",
    "\n",
    "G1, G2 = gauss(A, f), gauss2(A, f)\n",
    "for i in range(n):\n",
    "    print(np.abs(G2[i] - G1[i]))\n"
   ]
  },
  {
   "cell_type": "code",
   "execution_count": 29,
   "id": "1365e2ca-a995-4e7f-a688-6c285b64b092",
   "metadata": {},
   "outputs": [
    {
     "name": "stdout",
     "output_type": "stream",
     "text": [
      "Matrix([[1, 0, 0, 2], [0, 1, 0, 3], [0, 0, 1, -1]])\n",
      "Решение системы уравнений: [2 3 -1]\n",
      "\n",
      "\n",
      "Решение системы уравнений: [ 2.  3. -1.]\n"
     ]
    }
   ],
   "source": [
    "# 3\n",
    "from sympy import Matrix\n",
    "\n",
    "A = Matrix([[2, 1, -1], [-3, -1, 2], [-2, 1, 2]])\n",
    "f = Matrix([8, -11, -3])\n",
    "M = A.row_join(f)\n",
    "\n",
    "M_rref, pivot_columns = M.rref()\n",
    "print(M_rref)\n",
    "solution = M_rref[:, -1]\n",
    "solution = np.array(solution)\n",
    "solution = solution.flatten()\n",
    "print(\"Решение системы уравнений:\", solution)\n",
    "\n",
    "A = np.array([[2, 1, -1], [-3, -1, 2], [-2, 1, 2]])\n",
    "f = np.array([8, -11, -3])\n",
    "x, r, ra, s = np.linalg.lstsq(A, f, rcond=None)\n",
    "print(\"\\n\\nРешение системы уравнений:\", x)"
   ]
  },
  {
   "cell_type": "code",
   "execution_count": 14,
   "id": "1016878b-724c-44a3-91f4-cbe7bf9d039e",
   "metadata": {},
   "outputs": [],
   "source": [
    "# 4 \n",
    "\n",
    "def new_det(a):\n",
    "    a = copy.deepcopy(a)\n",
    "    n = len(a)\n",
    "    mul = 0\n",
    "    for i in range(n):\n",
    "        if (a[i][i] == 0):\n",
    "            mul += 1\n",
    "            for k in range(n):\n",
    "                if (a[k][i] != 0):\n",
    "                    for t in range(n):\n",
    "                        tmp = a[i][t]\n",
    "                        a[i][t] = a[k][t]\n",
    "                        a[k][t] = tmp\n",
    "                    break\n",
    "                return 0\n",
    "    if (mul == n): return 0\n",
    "\n",
    "    for i in range(n - 1):\n",
    "        for j in range(i, n - 1):\n",
    "            tmp = a[j + 1][i]\n",
    "            for k in range(i, n):Лекция 7 54\n",
    "где c = −f ′(b)−f ′(a)\n",
    "12 . Выразим неизвестное слагаемое\n",
    "ch2 = Sтр(h/2) − Sтр(h)\n",
    "1 − 1/4 + O(h3).\n",
    "Отсюда\n",
    "b∫\n",
    "a\n",
    "f (x) dx = Sтр(h) + 4\n",
    "3[Sтр(h/2) − Sтр(h)] + O(h3) =\n",
    "= 4Sтр(h/2) − Sтр(h)\n",
    "3 \n",
    "                a[j + 1][k] += a[i][k] * (-tmp / a[i][i])\n",
    "    p = 1\n",
    "    for i in range(n): p *= a[i][i]\n",
    "    return p * (-1)**mul\n",
    "\n",
    "def new_inv(m):\n",
    "    a, b = len(m), len(m[0])\n",
    "    d = new_det(m)\n",
    "    m_inv = [[0 for k in range(b)] for i in range(a)]\n",
    "    for i in range(a):\n",
    "        for k in range(b):\n",
    "            m_inv[i][k] = (-1)**(i + k) * new_det([[m[x][y] for y in range(b) if y != k] for x in range(a) if x != i])\n",
    "    return [[m_inv[k][i] / d for k in range(b)] for i in range(a)]\n",
    "\n",
    "def new_kramer(a, f):\n",
    "    n, m = len(a), len(a[0])\n",
    "    x = [0 for i in range(n)]\n",
    "    d = new_det(a)\n",
    "    for i in range(m):\n",
    "        x[i] = new_det([[a[x][y] if y != i else f[x][0] for y in range(m)] for x in range(n)]) / d\n",
    "    return x"
   ]
  },
  {
   "cell_type": "code",
   "execution_count": 33,
   "id": "90327f24-88ea-4626-b95c-7d585118374f",
   "metadata": {},
   "outputs": [
    {
     "name": "stdout",
     "output_type": "stream",
     "text": [
      "Initial large condition number:  1279.2940327615681\n",
      "New large condition number:  3059.5356841261037\n"
     ]
    }
   ],
   "source": [
    "A = [[randint(1, 100) for k in range(20)] for i in range(20)]\n",
    "X = [[randint(1, 100)] for i in range(20)]\n",
    "\n",
    "print(\"Initial large condition number: \", np.linalg.cond(A))\n",
    "A[0][0] += 10000\n",
    "A[-1][-1] = 1\n",
    "print(\"New large condition number: \", np.linalg.cond(A))\n",
    "\n",
    "f = prod(A, X)\n",
    "\n",
    "x_gauss = gauss(A, f)\n",
    "\n",
    "x_gauss2 = gauss2(A, f)\n",
    "\n",
    "d = new_det(A)\n",
    "\n",
    "if (d != 0): x_kramer = new_kramer(A, f)\n",
    "x_inv = np.dot(np.linalg.inv(A), f)\n",
    "A = Matrix(A)\n",
    "f = Matrix(f)\n",
    "M = A.row_join(f)\n",
    "M_rref, pivot_columns = M.rref()\n",
    "x_rref = M_rref[:, -1]\n",
    "x_rref = np.array(solution)\n",
    "x_rref = solution.flatten()"
   ]
  },
  {
   "cell_type": "code",
   "execution_count": 34,
   "id": "2cd3ba43-ac28-4452-bb16-ae6296013ac2",
   "metadata": {},
   "outputs": [
    {
     "data": {
      "text/plain": [
       "<matplotlib.legend.Legend at 0x756e79aaae90>"
      ]
     },
     "execution_count": 34,
     "metadata": {},
     "output_type": "execute_result"
    },
    {
     "data": {
      "image/png": "[encoded data removed]",
      "text/plain": [
       "<Figure size 640x480 with 1 Axes>"
      ]
     },
     "metadata": {},
     "output_type": "display_data"
    }
   ],
   "source": [
    "import matplotlib.pyplot as plt\n",
    "n = 20\n",
    "err_gauss = [abs(x_gauss[i] - X[i][0]) for i in range(n)]\n",
    "err_gauss2 = [abs(x_gauss2[i] - X[i][0]) for i in range(n)]\n",
    "err_kramer = [abs(x_kramer[i] - X[i][0]) for i in range(n)]\n",
    "err_inv = [abs(x_inv[i] - X[i][0]) for i in range(n)]\n",
    "\n",
    "plt.plot([i for i in range(n)], err_gauss2, 'r', label='gauss2')\n",
    "plt.plot([i for i in range(n)], err_gauss, 'g', label='gauss')\n",
    "plt.plot([i for i in range(n)], err_kramer, 'b', label='kramer')\n",
    "plt.plot([i for i in range(20)], err_inv, 'm', label='inv')\n",
    "plt.plot()\n",
    "plt.grid()\n",
    "plt.legend()"
   ]
  },
  {
   "cell_type": "code",
   "execution_count": null,
   "id": "0b8b3114-bd9c-4c57-9861-ab7afa33b562",
   "metadata": {},
   "outputs": [],
   "source": []
  }
 ],
 "metadata": {
  "kernelspec": {
   "display_name": "Python 3 (ipykernel)",
   "language": "python",
   "name": "python3"
  },
  "language_info": {
   "codemirror_mode": {
    "name": "ipython",
    "version": 3
   },
   "file_extension": ".py",
   "mimetype": "text/x-python",
   "name": "python",
   "nbconvert_exporter": "python",
   "pygments_lexer": "ipython3",
   "version": "3.13.2"
  }
 },
 "nbformat": 4,
 "nbformat_minor": 5
}
