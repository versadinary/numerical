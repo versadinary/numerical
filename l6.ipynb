{
 "cells": [
  {
   "cell_type": "code",
   "execution_count": 73,
   "id": "b84b630b-779c-44bb-9492-d427d3ca76ac",
   "metadata": {},
   "outputs": [],
   "source": [
    "import numpy as np\n",
    "from random import randint"
   ]
  },
  {
   "cell_type": "code",
   "execution_count": 74,
   "id": "ad6599fa-18d0-44d9-beb4-c19fef4aff2b",
   "metadata": {},
   "outputs": [],
   "source": [
    "# 1\n",
    "\n",
    "def prod(m1, m2):\n",
    "    n, m, p = len(m1), len(m1[0]), len(m2[0])\n",
    "    m3 = [[0 for k in range(p)] for i in range(n)]\n",
    "    for i in range(n):\n",
    "        for j in range(p):\n",
    "            s = 0\n",
    "            for k in range(m):\n",
    "                s += m1[i][k] * m2[k][j]\n",
    "            m3[i][j] = s\n",
    "    return m3\n",
    "\n",
    "def det(m):\n",
    "    s = 0\n",
    "    a, b = len(m), len(m[0])\n",
    "    if (a == 2): return m[0][0] * m[1][1] - m[1][0] * m[0][1]\n",
    "    for i in range(b):\n",
    "        s += (-1)**(i) * m[0][i] * det([[m[x][y] for y in range(b) if y != i] for x in range(1, a)])\n",
    "    return s\n",
    "\n",
    "def inv(m):\n",
    "    a, b = len(m), len(m[0])\n",
    "    d = det(m)\n",
    "    m_inv = [[0 for k in range(b)] for i in range(a)]\n",
    "    for i in range(a):\n",
    "        for k in range(b):\n",
    "            m_inv[i][k] = (-1)**(i + k) * det([[m[x][y] for y in range(b) if y != k] for x in range(a) if x != i])\n",
    "    return [[m_inv[k][i] / d for k in range(b)] for i in range(a)]\n"
   ]
  },
  {
   "cell_type": "code",
   "execution_count": 75,
   "id": "a0631685-b657-4998-88fa-73fdba23c96f",
   "metadata": {},
   "outputs": [
    {
     "name": "stdout",
     "output_type": "stream",
     "text": [
      "[-8.660061439480662]\n",
      "[1.2146034690121865]\n",
      "[-2.5480358203764615]\n",
      "\n",
      "[[-8.66006144]\n",
      " [ 1.21460347]\n",
      " [-2.54803582]]\n"
     ]
    }
   ],
   "source": [
    "n = 3\n",
    "A = [[randint(-100, 100) for k in range(n)] for i in range(n)]\n",
    "f = [[randint(-100, 100)] for i in range(n)]\n",
    "\n",
    "# inverse\n",
    "x = prod(inv(A), f)\n",
    "x1 = np.linalg.solve(A, f)\n",
    "print(*x, sep='\\n')\n",
    "print()\n",
    "print(x1)\n"
   ]
  },
  {
   "cell_type": "code",
   "execution_count": 86,
   "id": "e8ab127a-994f-4992-9e16-55a3f84ae601",
   "metadata": {},
   "outputs": [],
   "source": [
    "# kramer\n",
    "\n",
    "def kramer(a, f):\n",
    "    n, m = len(a), len(a[0])\n",
    "    x = [0 for i in range(n)]\n",
    "    d = det(a)\n",
    "    for i in range(m):\n",
    "        x[i] = det([[a[x][y] if y != i else f[x][0] for y in range(m)] for x in range(n)]) / d\n",
    "    return x\n"
   ]
  },
  {
   "cell_type": "code",
   "execution_count": 91,
   "id": "bcefddf1-4d58-41d9-a1b8-a97080705011",
   "metadata": {},
   "outputs": [
    {
     "name": "stdout",
     "output_type": "stream",
     "text": [
      "-27.711737629459147\n",
      "-23.5385500575374\n",
      "2.9994246260069044\n",
      "\n",
      "[-27.71173763]\n",
      "[-23.53855006]\n",
      "[2.99942463]\n"
     ]
    }
   ],
   "source": [
    "n = 3\n",
    "A = [[randint(-100, 100) for k in range(n)] for i in range(n)]\n",
    "f = [[randint(-100, 100)] for i in range(n)]\n",
    "\n",
    "\n",
    "x = kramer(A, f)\n",
    "x1 = np.linalg.solve(A, f)\n",
    "print(*x, sep='\\n')\n",
    "print()\n",
    "print(*x1, sep='\\n')\n"
   ]
  },
  {
   "cell_type": "code",
   "execution_count": 96,
   "id": "c182b01e-bb79-456d-ba29-f66ff9e6567f",
   "metadata": {},
   "outputs": [
    {
     "name": "stdout",
     "output_type": "stream",
     "text": [
      "n =  10\n",
      "Function=prod, Time=2.47955322265625e-05\n"
     ]
    }
   ],
   "source": [
    "\"Benchmarks\"\n",
    "\n",
    "import time\n",
    "\n",
    "def st_time(func):\n",
    "\n",
    "    def st_func(*args, **keyArgs):\n",
    "        t1 = time.time()\n",
    "        r = func(*args, **keyArgs)\n",
    "        t2 = time.time()\n",
    "        print(\"Function=%s, Time=%s\" % (func.__name__, t2 - t1))\n",
    "        return r\n",
    "\n",
    "    return st_func\n",
    "\n",
    "tests = [10]\n",
    "\n",
    "for n in tests:\n",
    "    A = [[randint(-100, 100) for k in range(n)] for i in range(n)]\n",
    "    f = [[randint(-100, 100)] for i in range(n)]\n",
    "    print(\"n = \", n)\n",
    "    st_time(prod)(inv(A), f)"
   ]
  },
  {
   "cell_type": "code",
   "execution_count": null,
   "id": "8daab109-b2ef-4830-b7e3-71d00c5a3f5b",
   "metadata": {},
   "outputs": [],
   "source": [
    "for n in tests:\n",
    "    A = [[randint(-100, 100) for k in range(n)] for i in range(n)]\n",
    "    f = [[randint(-100, 100)] for i in range(n)]\n",
    "    print(\"n = \", n)\n",
    "    st_time(kramer)(A, f)"
   ]
  },
  {
   "cell_type": "code",
   "execution_count": 97,
   "id": "53b46746-447f-49fb-922b-0bc6a9447f07",
   "metadata": {},
   "outputs": [],
   "source": [
    "# 2\n",
    "\n",
    "def gauss(a, f):\n",
    "    n, m = len(a), len(a[0])\n",
    "    for i in range(n):\n",
    "        mx, ind_i, ind_k = 0, 0, 0\n",
    "        \n",
    "        for j in range(n):\n",
    "            for k in range(m):\n",
    "                if (j == k == 0): mx = a[j][k]\n",
    "                if (a[j][k] > mx):\n",
    "                    mx = a[j][k]\n",
    "                    ind_i, ind_k = j, k\n",
    "                    \n",
    "        for j in range(m):\n",
    "            tmp = a[i][j]\n",
    "            a[i][j] = a[ind_i][j]\n",
    "            a[ind_i][j] = tmp\n",
    "\n",
    "        for j in range(n):\n",
    "            tmp = a[j][i]\n",
    "            a[j][i] = a[j][ind_k]\n",
    "            a[j][ind_k] = tmp\n",
    "\n",
    "        for k in range(i, m):\n",
    "            "
   ]
  },
  {
   "cell_type": "code",
   "execution_count": null,
   "id": "aa743483-d78a-4459-88d8-e0af8dc1d223",
   "metadata": {},
   "outputs": [],
   "source": []
  }
 ],
 "metadata": {
  "kernelspec": {
   "display_name": "venv1",
   "language": "python",
   "name": "venv1"
  },
  "language_info": {
   "codemirror_mode": {
    "name": "ipython",
    "version": 3
   },
   "file_extension": ".py",
   "mimetype": "text/x-python",
   "name": "python",
   "nbconvert_exporter": "python",
   "pygments_lexer": "ipython3",
   "version": "3.13.2"
  }
 },
 "nbformat": 4,
 "nbformat_minor": 5
}
