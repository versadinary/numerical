{
 "cells": [
  {
   "cell_type": "code",
   "execution_count": 228,
   "id": "b84b630b-779c-44bb-9492-d427d3ca76ac",
   "metadata": {},
   "outputs": [],
   "source": [
    "import numpy as np\n",
    "from random import randint"
   ]
  },
  {
   "cell_type": "code",
   "execution_count": 229,
   "id": "ad6599fa-18d0-44d9-beb4-c19fef4aff2b",
   "metadata": {},
   "outputs": [],
   "source": [
    "# 1\n",
    "\n",
    "def prod(m1, m2):\n",
    "    n, m, p = len(m1), len(m1[0]), len(m2[0])\n",
    "    m3 = [[0 for k in range(p)] for i in range(n)]\n",
    "    for i in range(n):\n",
    "        for j in range(p):\n",
    "            s = 0\n",
    "            for k in range(m):\n",
    "                s += m1[i][k] * m2[k][j]\n",
    "            m3[i][j] = s\n",
    "    return m3\n",
    "\n",
    "def det(m):\n",
    "    s = 0\n",
    "    a, b = len(m), len(m[0])\n",
    "    if (a == 2): return m[0][0] * m[1][1] - m[1][0] * m[0][1]\n",
    "    for i in range(b):\n",
    "        s += (-1)**(i) * m[0][i] * det([[m[x][y] for y in range(b) if y != i] for x in range(1, a)])\n",
    "    return s\n",
    "\n",
    "def inv(m):\n",
    "    a, b = len(m), len(m[0])\n",
    "    d = det(m)\n",
    "    m_inv = [[0 for k in range(b)] for i in range(a)]\n",
    "    for i in range(a):\n",
    "        for k in range(b):\n",
    "            m_inv[i][k] = (-1)**(i + k) * det([[m[x][y] for y in range(b) if y != k] for x in range(a) if x != i])\n",
    "    return [[m_inv[k][i] / d for k in range(b)] for i in range(a)]\n"
   ]
  },
  {
   "cell_type": "code",
   "execution_count": 230,
   "id": "a0631685-b657-4998-88fa-73fdba23c96f",
   "metadata": {},
   "outputs": [
    {
     "name": "stdout",
     "output_type": "stream",
     "text": [
      "[1.8511102029696227]\n",
      "[-0.22776188530173003]\n",
      "[0.6669391091132]\n",
      "\n",
      "[[ 1.8511102 ]\n",
      " [-0.22776189]\n",
      " [ 0.66693911]]\n"
     ]
    }
   ],
   "source": [
    "n = 3\n",
    "A = [[randint(-100, 100) for k in range(n)] for i in range(n)]\n",
    "f = [[randint(-100, 100)] for i in range(n)]\n",
    "\n",
    "# inverse\n",
    "x = prod(inv(A), f)\n",
    "x1 = np.linalg.solve(A, f)\n",
    "print(*x, sep='\\n')\n",
    "print()\n",
    "print(x1)\n"
   ]
  },
  {
   "cell_type": "code",
   "execution_count": 231,
   "id": "e8ab127a-994f-4992-9e16-55a3f84ae601",
   "metadata": {},
   "outputs": [],
   "source": [
    "# kramer\n",
    "\n",
    "def kramer(a, f):\n",
    "    n, m = len(a), len(a[0])\n",
    "    x = [0 for i in range(n)]\n",
    "    d = det(a)\n",
    "    for i in range(m):\n",
    "        x[i] = det([[a[x][y] if y != i else f[x][0] for y in range(m)] for x in range(n)]) / d\n",
    "    return x\n"
   ]
  },
  {
   "cell_type": "code",
   "execution_count": 232,
   "id": "bcefddf1-4d58-41d9-a1b8-a97080705011",
   "metadata": {},
   "outputs": [
    {
     "name": "stdout",
     "output_type": "stream",
     "text": [
      "9.57385334223324\n",
      "-6.718222561266329\n",
      "-15.67597978449509\n",
      "\n",
      "[9.57385334]\n",
      "[-6.71822256]\n",
      "[-15.67597978]\n"
     ]
    }
   ],
   "source": [
    "n = 3\n",
    "A = [[randint(-100, 100) for k in range(n)] for i in range(n)]\n",
    "f = [[randint(-100, 100)] for i in range(n)]\n",
    "\n",
    "\n",
    "x = kramer(A, f)\n",
    "x1 = np.linalg.solve(A, f)\n",
    "print(*x, sep='\\n')\n",
    "print()\n",
    "print(*x1, sep='\\n')\n"
   ]
  },
  {
   "cell_type": "code",
   "execution_count": 237,
   "id": "53b46746-447f-49fb-922b-0bc6a9447f07",
   "metadata": {},
   "outputs": [],
   "source": [
    "# 2\n",
    "import copy\n",
    "\n",
    "def gauss(a, f):\n",
    "    a = list(copy.deepcopy(a))\n",
    "    f = list(copy.deepcopy(f))\n",
    "    n = len(a)\n",
    "    for i in range(n - 1):\n",
    "        for j in range(i, n - 1):\n",
    "            tmp = a[j + 1][i]\n",
    "            for k in range(i, n):\n",
    "                a[j + 1][k] += a[i][k] * (-tmp / a[i][i])\n",
    "            f[j + 1][0] += f[i][0] * (-tmp / a[i][i])\n",
    "    \n",
    "    x = [f[-1][0] / a[-1][-1]] + [.0 for i in range(n - 1)]\n",
    "    for i in range(1, n):\n",
    "        numerator = 0\n",
    "        for j in range(i):\n",
    "            numerator += x[j] * a[n - 1 - i][n - 1 - j]\n",
    "        x[i] = (f[n - 1 - i][0] - numerator) / a[n - 1 - i][n - 1 - i]\n",
    "        \n",
    "    return x[::-1]\n",
    "\n",
    "def gauss2(a, f):\n",
    "    a = list(copy.deepcopy(a))\n",
    "    f = list(copy.deepcopy(f))\n",
    "    n, m = len(a), len(a[0])\n",
    "    perm = list(range(m))\n",
    "    for i in range(n):\n",
    "        mx, ind_i, ind_k = 0, 0, 0\n",
    "        \n",
    "        for j in range(i, n):\n",
    "            for k in range(i, m):\n",
    "                if (j == k == i):\n",
    "                    mx = a[j][k]\n",
    "                    ind_i, ind_k = i, i\n",
    "                if (a[j][k] > mx):\n",
    "                    mx = a[j][k]\n",
    "                    ind_i, ind_k = j, k\n",
    "                    \n",
    "        for j in range(i, m):\n",
    "            tmp = a[i][j]\n",
    "            a[i][j] = a[ind_i][j]\n",
    "            a[ind_i][j] = tmp\n",
    "\n",
    "        for j in range(n):\n",
    "            tmp = a[j][i]\n",
    "            a[j][i] = a[j][ind_k]\n",
    "            a[j][ind_k] = tmp\n",
    "        tmp = f[i][0]\n",
    "        f[i][0] = f[ind_i][0]\n",
    "        f[ind_i][0] = tmp\n",
    "        perm[i], perm[ind_k] = perm[ind_k], perm[i]\n",
    "        \n",
    "\n",
    "        for j in range(i, n - 1):\n",
    "            tmp = a[j + 1][i]\n",
    "            for k in range(i, n):\n",
    "                a[j + 1][k] += a[i][k] * (-tmp / a[i][i])\n",
    "            f[j + 1][0] += f[i][0] * (-tmp / a[i][i]) \n",
    "\n",
    "\n",
    "    x = [f[-1][0] / a[-1][-1]] + [.0 for i in range(n - 1)]\n",
    "    for i in range(1, n):\n",
    "        numerator = 0\n",
    "        for j in range(i):\n",
    "            numerator += x[j] * a[n - 1 - i][n - 1 - j]\n",
    "        x[i] = (f[n - 1 - i][0] - numerator) / a[n - 1 - i][n - 1 - i]\n",
    "    x = x[::-1]\n",
    "    x_corr = [0.0 for _ in range(n)]\n",
    "    for i in range(n):\n",
    "        x_corr[perm[i]] = x[i]\n",
    "    return x_corr\n"
   ]
  },
  {
   "cell_type": "code",
   "execution_count": 239,
   "id": "aa743483-d78a-4459-88d8-e0af8dc1d223",
   "metadata": {},
   "outputs": [
    {
     "name": "stdout",
     "output_type": "stream",
     "text": [
      "[[ 0.12830127]\n",
      " [-1.17572965]\n",
      " [-0.02127205]\n",
      " [-1.80103498]\n",
      " [ 0.52852943]\n",
      " [-2.9500085 ]\n",
      " [ 0.2853167 ]\n",
      " [ 0.60111501]\n",
      " [ 0.05570309]\n",
      " [-1.43555813]]\n",
      "0.1283012711737506\n",
      "-1.1757296511735573\n",
      "-0.02127205179527674\n",
      "-1.8010349771681555\n",
      "0.5285294268642688\n",
      "-2.9500084976844874\n",
      "0.2853166975964957\n",
      "0.6011150143985307\n",
      "0.05570309493081986\n",
      "-1.4355581267094604\n"
     ]
    }
   ],
   "source": [
    "n = 10\n",
    "A = [[randint(-100, 100) for k in range(n)] for i in range(n)]\n",
    "f = [[randint(-100, 100)] for i in range(n)]\n",
    "print(np.linalg.solve(A, f))\n",
    "print(*gauss(A, f), sep='\\n')"
   ]
  },
  {
   "cell_type": "code",
   "execution_count": 123,
   "id": "dc53b804-e41b-400e-91cf-73ee80ab522e",
   "metadata": {},
   "outputs": [
    {
     "name": "stdout",
     "output_type": "stream",
     "text": [
      "1.3766765505351941e-14\n",
      "2.6645352591003757e-15\n",
      "8.881784197001252e-15\n",
      "1.021405182655144e-14\n",
      "1.3766765505351941e-14\n",
      "1.2545520178264269e-14\n",
      "2.1316282072803006e-14\n",
      "1.0658141036401503e-14\n",
      "4.440892098500626e-15\n",
      "7.105427357601002e-15\n",
      "1.4210854715202004e-14\n",
      "4.440892098500626e-16\n",
      "0.0\n",
      "1.7763568394002505e-15\n",
      "3.3306690738754696e-16\n"
     ]
    }
   ],
   "source": [
    "\"Precision test\"\n",
    "\n",
    "n = 15\n",
    "A = [[randint(-100, 100) for k in range(n)] for i in range(n)]\n",
    "f = [[randint(-100, 100)] for i in range(n)]\n",
    "\n",
    "G1, G2 = gauss(A, f), gauss2(A, f)\n",
    "for i in range(n):\n",
    "    print(np.abs(G2[i] - G1[i]))\n"
   ]
  },
  {
   "cell_type": "code",
   "execution_count": 124,
   "id": "1365e2ca-a995-4e7f-a688-6c285b64b092",
   "metadata": {},
   "outputs": [
    {
     "name": "stdout",
     "output_type": "stream",
     "text": [
      "Matrix([[1, 0, 0, 2], [0, 1, 0, 3], [0, 0, 1, -1]])\n",
      "Решение системы уравнений: [2 3 -1]\n",
      "\n",
      "\n",
      "Решение системы уравнений: [ 2.  3. -1.]\n"
     ]
    }
   ],
   "source": [
    "# 3\n",
    "from sympy import Matrix\n",
    "\n",
    "A = Matrix([[2, 1, -1], [-3, -1, 2], [-2, 1, 2]])\n",
    "f = Matrix([8, -11, -3])\n",
    "M = A.row_join(f)\n",
    "\n",
    "M_rref, pivot_columns = M.rref()\n",
    "print(M_rref)\n",
    "solution = M_rref[:, -1]\n",
    "solution = np.array(solution)\n",
    "solution = solution.flatten()\n",
    "print(\"Решение системы уравнений:\", solution)\n",
    "\n",
    "A = np.array([[2, 1, -1], [-3, -1, 2], [-2, 1, 2]])\n",
    "f = np.array([8, -11, -3])\n",
    "x, r, ra, s = np.linalg.lstsq(A, f, rcond=None)\n",
    "print(\"\\n\\nРешение системы уравнений:\", x)"
   ]
  },
  {
   "cell_type": "code",
   "execution_count": 240,
   "id": "1016878b-724c-44a3-91f4-cbe7bf9d039e",
   "metadata": {},
   "outputs": [],
   "source": [
    "# 4 \n",
    "\n",
    "def new_det(a):\n",
    "    a = copy.deepcopy(a)\n",
    "    n = len(a)\n",
    "    mul = 0\n",
    "    for i in range(n):\n",
    "        if (a[i][i] == 0):\n",
    "            mul += 1\n",
    "            for k in range(n):\n",
    "                if (a[k][i] != 0):\n",
    "                    for t in range(n):\n",
    "                        tmp = a[i][t]\n",
    "                        a[i][t] = a[k][t]\n",
    "                        a[k][t] = tmp\n",
    "                    break\n",
    "                return 0\n",
    "    if (mul == n): return 0\n",
    "\n",
    "    for i in range(n - 1):\n",
    "        for j in range(i, n - 1):\n",
    "            tmp = a[j + 1][i]\n",
    "            for k in range(i, n):\n",
    "                a[j + 1][k] += a[i][k] * (-tmp / a[i][i])\n",
    "    p = 1\n",
    "    for i in range(n): p *= a[i][i]\n",
    "    return p * (-1)**mul\n",
    "\n",
    "def new_inv(m):\n",
    "    a, b = len(m), len(m[0])\n",
    "    d = new_det(m)\n",
    "    m_inv = [[0 for k in range(b)] for i in range(a)]\n",
    "    for i in range(a):\n",
    "        for k in range(b):\n",
    "            m_inv[i][k] = (-1)**(i + k) * new_det([[m[x][y] for y in range(b) if y != k] for x in range(a) if x != i])\n",
    "    return [[m_inv[k][i] / d for k in range(b)] for i in range(a)]\n",
    "\n",
    "def new_kramer(a, f):\n",
    "    n, m = len(a), len(a[0])\n",
    "    x = [0 for i in range(n)]\n",
    "    d = new_det(a)\n",
    "    for i in range(m):\n",
    "        x[i] = new_det([[a[x][y] if y != i else f[x][0] for y in range(m)] for x in range(n)]) / d\n",
    "    return x"
   ]
  },
  {
   "cell_type": "code",
   "execution_count": 261,
   "id": "90327f24-88ea-4626-b95c-7d585118374f",
   "metadata": {},
   "outputs": [
    {
     "name": "stdout",
     "output_type": "stream",
     "text": [
      "Initial large condition number:  359.4150215927719\n",
      "New large condition number:  1804.1781661632351\n",
      "Initial X: [[6], [13], [75], [24], [96], [79], [53], [6], [98], [40], [86], [38], [23], [22], [14], [87], [93], [98], [47], [97]]\n",
      "Gauss: [6.000000000000005, 12.999999999999797, 74.99999999999949, 23.999999999999847, 96.00000000000004, 79.00000000000036, 52.99999999999968, 6.00000000000071, 97.9999999999997, 39.99999999999903, 85.99999999999955, 37.9999999999995, 23.000000000000323, 22.000000000000895, 13.99999999999965, 87.00000000000065, 93.00000000000044, 97.99999999999983, 47.00000000000045, 96.99999999999963]\n",
      "Gauss2: [6.000000000000001, 12.999999999999728, 75.00000000000013, 23.999999999999986, 96.00000000000016, 78.99999999999977, 53.000000000000064, 5.999999999999777, 97.99999999999991, 40.0000000000001, 85.99999999999996, 38.00000000000023, 23.000000000000185, 21.99999999999993, 13.999999999999995, 87.00000000000006, 92.99999999999996, 98.00000000000007, 46.99999999999997, 96.99999999999997]\n",
      "\n"
     ]
    }
   ],
   "source": [
    "A = [[randint(1, 100) for k in range(20)] for i in range(20)]\n",
    "X = [[randint(1, 100)] for i in range(20)]\n",
    "\n",
    "print(\"Initial large condition number: \", np.linalg.cond(A))\n",
    "A[0][0] += 10000\n",
    "A[-1][-1] = 1\n",
    "print(\"New large condition number: \", np.linalg.cond(A))\n",
    "\n",
    "f = prod(A, X)\n",
    "\n",
    "x_gauss = gauss(A, f)\n",
    "\n",
    "x_gauss2 = gauss2(A, f)\n",
    "\n",
    "d = new_det(A)\n",
    "\n",
    "if (d != 0): x_kramer = new_kramer(A, f)\n",
    "x_inv = np.dot(np.linalg.inv(A), f)\n",
    "A = Matrix(A)\n",
    "f = Matrix(f)\n",
    "M = A.row_join(f)\n",
    "M_rref, pivot_columns = M.rref()\n",
    "x_rref = M_rref[:, -1]\n",
    "x_rref = np.array(solution)\n",
    "x_rref = solution.flatten()"
   ]
  },
  {
   "cell_type": "code",
   "execution_count": 276,
   "id": "2cd3ba43-ac28-4452-bb16-ae6296013ac2",
   "metadata": {},
   "outputs": [
    {
     "data": {
      "text/plain": [
       "<matplotlib.legend.Legend at 0x7035f9907610>"
      ]
     },
     "execution_count": 276,
     "metadata": {},
     "output_type": "execute_result"
    },
    {
     "data": {
      "image/png": "[encoded data removed]",
      "text/plain": [
       "<Figure size 640x480 with 1 Axes>"
      ]
     },
     "metadata": {},
     "output_type": "display_data"
    }
   ],
   "source": [
    "import matplotlib.pyplot as plt\n",
    "n = 20\n",
    "err_gauss = [abs(x_gauss[i] - X[i][0]) for i in range(n)]\n",
    "err_gauss2 = [abs(x_gauss2[i] - X[i][0]) for i in range(n)]\n",
    "err_kramer = [abs(x_kramer[i] - X[i][0]) for i in range(n)]\n",
    "err_inv = [abs(x_inv[i] - X[i][0]) for i in range(n)]\n",
    "\n",
    "plt.plot([i for i in range(n)], err_gauss2, 'r', label='gauss2')\n",
    "plt.plot([i for i in range(n)], err_gauss, 'g', label='gauss')\n",
    "plt.plot([i for i in range(n)], err_kramer, 'b', label='kramer')\n",
    "plt.plot([i for i in range(20)], err_inv, 'm', label='inv')\n",
    "plt.plot()\n",
    "plt.grid()\n",
    "plt.legend()"
   ]
  },
  {
   "cell_type": "code",
   "execution_count": null,
   "id": "0b8b3114-bd9c-4c57-9861-ab7afa33b562",
   "metadata": {},
   "outputs": [],
   "source": []
  }
 ],
 "metadata": {
  "kernelspec": {
   "display_name": "venv1",
   "language": "python",
   "name": "venv1"
  },
  "language_info": {
   "codemirror_mode": {
    "name": "ipython",
    "version": 3
   },
   "file_extension": ".py",
   "mimetype": "text/x-python",
   "name": "python",
   "nbconvert_exporter": "python",
   "pygments_lexer": "ipython3",
   "version": "3.13.2"
  }
 },
 "nbformat": 4,
 "nbformat_minor": 5
}
