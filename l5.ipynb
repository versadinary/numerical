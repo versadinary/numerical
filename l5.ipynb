{
 "cells": [
  {
   "cell_type": "code",
   "execution_count": 1,
   "id": "9cd8bc57-bdbf-4f13-b5c9-6508e1e7d24a",
   "metadata": {},
   "outputs": [],
   "source": [
    "import matplotlib.pyplot as plt\n",
    "import numpy as np\n",
    "import math"
   ]
  },
  {
   "cell_type": "code",
   "execution_count": 10,
   "id": "2c6e2dae-8e5a-447b-baf5-490f77bb09f7",
   "metadata": {},
   "outputs": [],
   "source": [
    "def f(x):\n",
    "    return x**3\n",
    "\n",
    "a, b = 0, 1\n",
    "tr = (b - a) * (f(b) + f(a)) / 2\n",
    "sim = ((b - a) / 6) * (f(a) + 4 * f((a + b) / 2) + f(b))\n"
   ]
  },
  {
   "cell_type": "code",
   "execution_count": null,
   "id": "ca03de51-81e3-4776-8827-69fcce7c96a0",
   "metadata": {},
   "outputs": [],
   "source": []
  }
 ],
 "metadata": {
  "kernelspec": {
   "display_name": "venv1",
   "language": "python",
   "name": "venv1"
  },
  "language_info": {
   "codemirror_mode": {
    "name": "ipython",
    "version": 3
   },
   "file_extension": ".py",
   "mimetype": "text/x-python",
   "name": "python",
   "nbconvert_exporter": "python",
   "pygments_lexer": "ipython3",
   "version": "3.13.2"
  }
 },
 "nbformat": 4,
 "nbformat_minor": 5
}
