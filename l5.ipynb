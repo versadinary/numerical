{
 "cells": [
  {
   "cell_type": "code",
   "execution_count": 2,
   "id": "9cd8bc57-bdbf-4f13-b5c9-6508e1e7d24a",
   "metadata": {},
   "outputs": [],
   "source": [
    "import matplotlib.pyplot as plt\n",
    "import numpy as np\n",
    "import math"
   ]
  },
  {
   "cell_type": "code",
   "execution_count": 21,
   "id": "2c6e2dae-8e5a-447b-baf5-490f77bb09f7",
   "metadata": {},
   "outputs": [
    {
     "name": "stdout",
     "output_type": "stream",
     "text": [
      "f\n",
      "tr 0.25\n",
      "sim 0.0 \n",
      "\n",
      "f1\n",
      "tr 0.0\n",
      "sim 0.0\n",
      "f2\n",
      "tr 0.16666666666666669\n",
      "sim 0.0\n"
     ]
    }
   ],
   "source": [
    "def f(x):\n",
    "    return x**3\n",
    "\n",
    "a, b = 0, 1\n",
    "tr = (b - a) * (f(b) + f(a)) / 2\n",
    "sim = ((b - a) / 6) * (f(a) + 4 * f((a + b) / 2) + f(b))\n",
    "print('f')\n",
    "print('tr', np.abs(tr - 0.25))\n",
    "print('sim', np.abs(sim - 0.25), '\\n')\n",
    "\n",
    "def f1(x):\n",
    "    return x / 2\n",
    "\n",
    "def f2(x):\n",
    "    return x**2\n",
    "\n",
    "tr = (b - a) * (f1(b) + f1(a)) / 2\n",
    "sim = ((b - a) / 6) * (f1(a) + 4 * f1((a + b) / 2) + f1(b))\n",
    "print('f1')\n",
    "print('tr', np.abs(tr - 1 / 4))\n",
    "print('sim', np.abs(sim - 1 / 4))\n",
    "\n",
    "tr = (b - a) * (f2(b) + f2(a)) / 2\n",
    "sim = ((b - a) / 6) * (f2(a) + 4 * f2((a + b) / 2) + f2(b))\n",
    "print('f2')\n",
    "print('tr', np.abs(tr - 1 / 3))\n",
    "print('sim', np.abs(sim - 1 / 3))"
   ]
  },
  {
   "cell_type": "code",
   "execution_count": 11,
   "id": "ca03de51-81e3-4776-8827-69fcce7c96a0",
   "metadata": {},
   "outputs": [
    {
     "name": "stdout",
     "output_type": "stream",
     "text": [
      "По формуле трапеций:\n",
      "Шаг: 0.004878048780487805\n",
      "Значение: 3.1415886876964767\n",
      "разница с реальным значением: 3.965893316415503e-06\n",
      "\n",
      "По формуле Симпсона:\n",
      "Шаг: 0.1\n",
      "Значение: 3.141592652969785\n",
      "Разница с реальным значением: 6.200080449048073e-10\n",
      "\n"
     ]
    }
   ],
   "source": [
    "def f(x):\n",
    "    return 1/(1+x**2)\n",
    "\n",
    "#####\n",
    "def d2f(x):\n",
    "    return 2 * (3 * x**2 - 1) / (x**2 + 1)**3\n",
    "\n",
    "def d4f(x):\n",
    "    return 24 * (5 * x**4 - 10 * x**2 + 1) / (x**2 + 1)**5\n",
    "\n",
    "m2 = max([d2f(i) for i in np.linspace(0, 1, 100000)])\n",
    "h2 = np.sqrt(eps * 12 / m2)\n",
    "\n",
    "x = np.linspace(0, 1, int((b - a) / h2) + 2)\n",
    "\n",
    "def tra(x, f):\n",
    "    i = 0\n",
    "    for j in range(1, len(x) - 1):\n",
    "        i += f(x[j])\n",
    "    i += (f(x[0]) + f(x[len(x) - 1])) / 2\n",
    "    h = x[1] - x[0]\n",
    "    i = i * h\n",
    "    print(f'По формуле трапеций:')\n",
    "    print(f'Шаг: {h}')\n",
    "    print(f'Значение: {4*i}')\n",
    "    print(f'разница с реальным значением: {np.abs(4*i - np.pi)}\\n')\n",
    "\n",
    "tra(x, f)\n",
    "#####\n",
    "\n",
    "\"simpson\"\n",
    "\n",
    "m4 = max([d4f(i) for i in np.linspace(0, 1, 100000)])\n",
    "h4 = np.power(eps * 2880 / m4, 0.25)\n",
    "\n",
    "x = np.linspace(0, 1, int((b - a) / h4) + 2)\n",
    "\n",
    "def sim(x, f):\n",
    "    i = 0\n",
    "    for j in range(1, len(x) - 1):\n",
    "            i += f(x[j])\n",
    "    i = 2 * i + f(x[0]) + f(x[len(x) - 1])\n",
    "    for j in range(len(x) - 1):\n",
    "        i += 4 * f((x[j] + x[j + 1]) / 2)\n",
    "    h = x[1] - x[0]\n",
    "    i = i * (h / 6)\n",
    "    print(f'По формуле Симпсона:')\n",
    "    print(f'Шаг: {h}')\n",
    "    print(f'Значение: {4*i}')\n",
    "    print(f'Разница с реальным значением: {np.abs(4*i - np.pi)}\\n')\n",
    "\n",
    "sim(x, f)"
   ]
  },
  {
   "cell_type": "code",
   "execution_count": null,
   "id": "fa4b4818-1a96-411e-b0b6-afdc2a9a74b8",
   "metadata": {},
   "outputs": [],
   "source": []
  }
 ],
 "metadata": {
  "kernelspec": {
   "display_name": "venv1",
   "language": "python",
   "name": "venv1"
  },
  "language_info": {
   "codemirror_mode": {
    "name": "ipython",
    "version": 3
   },
   "file_extension": ".py",
   "mimetype": "text/x-python",
   "name": "python",
   "nbconvert_exporter": "python",
   "pygments_lexer": "ipython3",
   "version": "3.13.2"
  }
 },
 "nbformat": 4,
 "nbformat_minor": 5
}
