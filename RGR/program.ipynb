{
 "cells": [
  {
   "cell_type": "code",
   "execution_count": 1,
   "id": "2d688fd6-b634-478d-8bac-7e0306656e57",
   "metadata": {},
   "outputs": [],
   "source": [
    "import numpy as np"
   ]
  },
  {
   "cell_type": "code",
   "execution_count": 25,
   "id": "7e39628e-0105-4b7b-b77f-82b1756c009c",
   "metadata": {},
   "outputs": [],
   "source": [
    "# First steepest descent algorithm implementation\n",
    "\n",
    "def steepest(A, b, x, eps, maxiter):\n",
    "    iter = 1\n",
    "    r = b - A * x\n",
    "    delta = np.dot(r, r)\n",
    "    conv = [delta]\n",
    "    delta0 = delta\n",
    "    while ((delta > eps * delta0).all() and iter < maxiter):\n",
    "        q = A * r\n",
    "        alpha = delta / (np.dot(q, r))\n",
    "        x = x + alpha * r\n",
    "        if (iter % 50 == 0):\n",
    "            r = b - A * x\n",
    "        else:\n",
    "            r = r - alpha * q\n",
    "        delta = np.transpose(r) * r\n",
    "        conv.append(delta)\n",
    "        iter += 1\n",
    "    return x, conv\n",
    "\n",
    "    "
   ]
  },
  {
   "cell_type": "code",
   "execution_count": 30,
   "id": "1c8f4331-bf99-490b-b9b2-a2e6451eb992",
   "metadata": {},
   "outputs": [
    {
     "name": "stdout",
     "output_type": "stream",
     "text": [
      "[     0 111110    110]\n"
     ]
    }
   ],
   "source": [
    "A = np.array([[100, 3, -2], [1, 200, 5], [-4, 3, 100]])\n",
    "b = np.array([800, 1000, 500])\n",
    "x0 = np.array([0, 111110, 110])\n",
    "\n",
    "print(steepest(A, b, x0, 0.0000001, 10000)[0])"
   ]
  },
  {
   "cell_type": "code",
   "execution_count": null,
   "id": "1fa14e49-5ac1-4bf2-9595-851a09fd2255",
   "metadata": {},
   "outputs": [],
   "source": []
  }
 ],
 "metadata": {
  "kernelspec": {
   "display_name": "venv1",
   "language": "python",
   "name": "venv1"
  },
  "language_info": {
   "codemirror_mode": {
    "name": "ipython",
    "version": 3
   },
   "file_extension": ".py",
   "mimetype": "text/x-python",
   "name": "python",
   "nbconvert_exporter": "python",
   "pygments_lexer": "ipython3",
   "version": "3.13.3"
  }
 },
 "nbformat": 4,
 "nbformat_minor": 5
}
