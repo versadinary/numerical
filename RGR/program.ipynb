{
 "cells": [
  {
   "cell_type": "code",
   "execution_count": 2,
   "id": "2d688fd6-b634-478d-8bac-7e0306656e57",
   "metadata": {},
   "outputs": [],
   "source": [
    "import numpy as np"
   ]
  },
  {
   "cell_type": "code",
   "execution_count": 172,
   "id": "7e39628e-0105-4b7b-b77f-82b1756c009c",
   "metadata": {},
   "outputs": [],
   "source": [
    "# First steepest descent algorithm implementation\n",
    "\n",
    "def steepest(A, b, x, eps, maxiter):\n",
    "    i = 1\n",
    "    r = b - np.matmul(A, x)\n",
    "    delta = np.dot(r, r)\n",
    "    conv = [delta]\n",
    "    delta0 = delta\n",
    "    while (delta > eps * delta0 and i < maxiter):\n",
    "        q = np.matmul(A, r)\n",
    "        alpha = delta / np.dot(q, r)\n",
    "        x = x + alpha * r\n",
    "        if (i % 10 == 0):\n",
    "            r = b - np.matmul(A, x)\n",
    "        else:\n",
    "            r = r - alpha * q\n",
    "        delta = np.dot(r, r)\n",
    "        conv.append(delta)\n",
    "        i += 1\n",
    "    return x, conv\n",
    "\n",
    "    "
   ]
  },
  {
   "cell_type": "code",
   "execution_count": 177,
   "id": "1c8f4331-bf99-490b-b9b2-a2e6451eb992",
   "metadata": {},
   "outputs": [
    {
     "name": "stdout",
     "output_type": "stream",
     "text": [
      "[7.95852474 4.83085841 5.17339506]\n"
     ]
    }
   ],
   "source": [
    "A = np.array([[100, 3, -2], [1, 200, 5], [-4, 3, 100]])\n",
    "b = np.array([800, 1000, 500])\n",
    "x0 = np.array([0, 0, 0])\n",
    "\n",
    "print(steepest(A, b, x0, 0.00000000001, 10000000000000000000)[0])"
   ]
  },
  {
   "cell_type": "code",
   "execution_count": 181,
   "id": "1fa14e49-5ac1-4bf2-9595-851a09fd2255",
   "metadata": {},
   "outputs": [
    {
     "data": {
      "text/plain": [
       "array([7.95854215, 4.8308719 , 5.17341553])"
      ]
     },
     "execution_count": 181,
     "metadata": {},
     "output_type": "execute_result"
    }
   ],
   "source": [
    "np.linalg.solve(A, b)"
   ]
  },
  {
   "cell_type": "code",
   "execution_count": 199,
   "id": "940e912f-b1de-4492-803b-24ee5127b9ff",
   "metadata": {},
   "outputs": [],
   "source": [
    "def steepest1(A, b, eps):\n",
    "    x = np.array([0 for _ in range(len(b))])\n",
    "    AT = np.transpose(A)\n",
    "    A = np.matmul(AT, A)\n",
    "    b = np.matmul(AT, b)\n",
    "    r = b - np.matmul(A, x)\n",
    "    while (np.sqrt(np.dot(r, r))) > eps):\n",
    "        alpha = np.dot(r, r) / np.dot(np.matmul(A, r), r)\n",
    "        x = x + alpha * r\n",
    "    return x"
   ]
  },
  {
   "cell_type": "code",
   "execution_count": 201,
   "id": "e3cd3b57-cfb4-436a-9db7-f0d43d8ca988",
   "metadata": {},
   "outputs": [],
   "source": [
    "#steepest1(A, b, 0.01)"
   ]
  },
  {
   "cell_type": "code",
   "execution_count": null,
   "id": "14e3e7d0-b64c-4d8d-aa7a-7a106e433d1e",
   "metadata": {},
   "outputs": [],
   "source": []
  }
 ],
 "metadata": {
  "kernelspec": {
   "display_name": "venv1",
   "language": "python",
   "name": "venv1"
  },
  "language_info": {
   "codemirror_mode": {
    "name": "ipython",
    "version": 3
   },
   "file_extension": ".py",
   "mimetype": "text/x-python",
   "name": "python",
   "nbconvert_exporter": "python",
   "pygments_lexer": "ipython3",
   "version": "3.13.3"
  }
 },
 "nbformat": 4,
 "nbformat_minor": 5
}
