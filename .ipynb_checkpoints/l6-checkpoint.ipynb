{
 "cells": [
  {
   "cell_type": "code",
   "execution_count": 289,
   "id": "b84b630b-779c-44bb-9492-d427d3ca76ac",
   "metadata": {},
   "outputs": [],
   "source": [
    "import numpy as np\n",
    "from random import randint"
   ]
  },
  {
   "cell_type": "code",
   "execution_count": 290,
   "id": "ad6599fa-18d0-44d9-beb4-c19fef4aff2b",
   "metadata": {},
   "outputs": [],
   "source": [
    "# 1\n",
    "\n",
    "def prod(m1, m2):\n",
    "    n, m, p = len(m1), len(m1[0]), len(m2[0])\n",
    "    m3 = [[0 for k in range(p)] for i in range(n)]\n",
    "    for i in range(n):\n",
    "        for j in range(p):\n",
    "            s = 0\n",
    "            for k in range(m):\n",
    "                s += m1[i][k] * m2[k][j]\n",
    "            m3[i][j] = s\n",
    "    return m3\n",
    "\n",
    "def det(m):\n",
    "    s = 0\n",
    "    a, b = len(m), len(m[0])\n",
    "    if (a == 2): return m[0][0] * m[1][1] - m[1][0] * m[0][1]\n",
    "    for i in range(b):\n",
    "        s += (-1)**(i) * m[0][i] * det([[m[x][y] for y in range(b) if y != i] for x in range(1, a)])\n",
    "    return s\n",
    "\n",
    "def inv(m):\n",
    "    a, b = len(m), len(m[0])\n",
    "    d = det(m)\n",
    "    m_inv = [[0 for k in range(b)] for i in range(a)]\n",
    "    for i in range(a):\n",
    "        for k in range(b):\n",
    "            m_inv[i][k] = (-1)**(i + k) * det([[m[x][y] for y in range(b) if y != k] for x in range(a) if x != i])\n",
    "    return [[m_inv[k][i] / d for k in range(b)] for i in range(a)]\n"
   ]
  },
  {
   "cell_type": "code",
   "execution_count": 291,
   "id": "a0631685-b657-4998-88fa-73fdba23c96f",
   "metadata": {},
   "outputs": [
    {
     "name": "stdout",
     "output_type": "stream",
     "text": [
      "[2.216678171295067]\n",
      "[0.34963627674826103]\n",
      "[-0.5894546806138162]\n",
      "\n",
      "[[ 2.21667817]\n",
      " [ 0.34963628]\n",
      " [-0.58945468]]\n"
     ]
    }
   ],
   "source": [
    "n = 3\n",
    "A = [[randint(-100, 100) for k in range(n)] for i in range(n)]\n",
    "f = [[randint(-100, 100)] for i in range(n)]\n",
    "\n",
    "# inverse\n",
    "x = prod(inv(A), f)\n",
    "x1 = np.linalg.solve(A, f)\n",
    "print(*x, sep='\\n')\n",
    "print()\n",
    "print(x1)\n"
   ]
  },
  {
   "cell_type": "code",
   "execution_count": 292,
   "id": "e8ab127a-994f-4992-9e16-55a3f84ae601",
   "metadata": {},
   "outputs": [],
   "source": [
    "# kramer\n",
    "\n",
    "def kramer(a, f):\n",
    "    n, m = len(a), len(a[0])\n",
    "    x = [0 for i in range(n)]\n",
    "    d = det(a)\n",
    "    for i in range(m):\n",
    "        x[i] = det([[a[x][y] if y != i else f[x][0] for y in range(m)] for x in range(n)]) / d\n",
    "    return x\n"
   ]
  },
  {
   "cell_type": "code",
   "execution_count": 293,
   "id": "bcefddf1-4d58-41d9-a1b8-a97080705011",
   "metadata": {},
   "outputs": [
    {
     "name": "stdout",
     "output_type": "stream",
     "text": [
      "-1.1909543669271572\n",
      "-0.5382974990214736\n",
      "-1.2531009164405933\n",
      "\n",
      "[-1.19095437]\n",
      "[-0.5382975]\n",
      "[-1.25310092]\n"
     ]
    }
   ],
   "source": [
    "n = 3\n",
    "A = [[randint(-100, 100) for k in range(n)] for i in range(n)]\n",
    "f = [[randint(-100, 100)] for i in range(n)]\n",
    "\n",
    "\n",
    "x = kramer(A, f)\n",
    "x1 = np.linalg.solve(A, f)\n",
    "print(*x, sep='\\n')\n",
    "print()\n",
    "print(*x1, sep='\\n')\n"
   ]
  },
  {
   "cell_type": "code",
   "execution_count": 402,
   "id": "53b46746-447f-49fb-922b-0bc6a9447f07",
   "metadata": {},
   "outputs": [],
   "source": [
    "# 2\n",
    "\n",
    "def gauss(a, f):\n",
    "    n = len(a)\n",
    "    for i in range(n - 1):\n",
    "        for j in range(i, n - 1):\n",
    "            if (j + 1 < n): tmp = a[j + 1][i]\n",
    "            for k in range(i, n):\n",
    "                if (j + 1 < n):\n",
    "                    a[j + 1][k] += a[i][k] * (-tmp / a[i][i])                \n",
    "    return a\n",
    "\n",
    "def gauss2(a, f):\n",
    "    n, m = len(a), len(a[0])\n",
    "    for i in range(n):\n",
    "        mx, ind_i, ind_k = 0, 0, 0\n",
    "        \n",
    "        for j in range(i, n):\n",
    "            for k in range(i, m):\n",
    "                if (j == k == i): mx = a[j][k]\n",
    "                if (a[j][k] > mx):\n",
    "                    mx = a[j][k]\n",
    "                    ind_i, ind_k = j, k\n",
    "                    \n",
    "        for j in range(i, m):\n",
    "            tmp = a[i][j]\n",
    "            a[i][j] = a[ind_i][j]\n",
    "            a[ind_i][j] = tmp\n",
    "            tmp = f[i][0]\n",
    "            f[i][0] = f[ind_i][0]\n",
    "            f[ind_i][0] = tmp\n",
    "\n",
    "        for j in range(n):\n",
    "            tmp = a[j][i]\n",
    "            a[j][i] = a[j][ind_k]\n",
    "            a[j][ind_k] = tmp\n",
    "\n",
    "        for i in range(n - 1):\n",
    "            for j in range(i, n - 1):\n",
    "                if (j + 1 < n): tmp = a[j + 1][i]\n",
    "                for k in range(i, n):\n",
    "                    if (j + 1 < n):\n",
    "                        a[j + 1][k] += a[i][k] * (-tmp / a[i][i]) \n",
    "    \n",
    "    return a\n"
   ]
  },
  {
   "cell_type": "code",
   "execution_count": 403,
   "id": "aa743483-d78a-4459-88d8-e0af8dc1d223",
   "metadata": {},
   "outputs": [
    {
     "name": "stdout",
     "output_type": "stream",
     "text": [
      "[-1.5, 10, 0.20000000000000018]\n",
      "[0.0, -299.99999999999966, 2.0000000000000018]\n",
      "[0.0, 0.0, -0.03555555555555563]\n"
     ]
    }
   ],
   "source": [
    "n = 3\n",
    "A = [[randint(-100, 100) for k in range(n)] for i in range(n)]\n",
    "f = [[randint(-100, 100)] for i in range(n)]\n",
    "print(*gauss2([[1, 2, 3], [4, 5, 6], [7, 8, 10]], f), sep='\\n')"
   ]
  },
  {
   "cell_type": "code",
   "execution_count": 410,
   "id": "1365e2ca-a995-4e7f-a688-6c285b64b092",
   "metadata": {},
   "outputs": [
    {
     "name": "stdout",
     "output_type": "stream",
     "text": [
      "Matrix([[1, 0, 0, 2], [0, 1, 0, 3], [0, 0, 1, -1]])\n",
      "Решение системы уравнений: [2 3 -1]\n",
      "\n",
      "\n",
      "Решение системы уравнений: [ 2.  3. -1.]\n"
     ]
    }
   ],
   "source": [
    "# 3\n",
    "from sympy import Matrix\n",
    "\n",
    "A = Matrix([[2, 1, -1], [-3, -1, 2], [-2, 1, 2]])\n",
    "f = Matrix([8, -11, -3])\n",
    "M = A.row_join(f)\n",
    "\n",
    "M_rref, pivot_columns = M.rref()\n",
    "print(M_rref)\n",
    "solution = M_rref[:, -1]\n",
    "solution = np.array(solution)\n",
    "solution = solution.flatten()\n",
    "print(\"Решение системы уравнений:\", solution)\n",
    "\n",
    "A = np.array([[2, 1, -1], [-3, -1, 2], [-2, 1, 2]])\n",
    "f = np.array([8, -11, -3])\n",
    "x, r, ra, s = np.linalg.lstsq(A, f, rcond=None)\n",
    "print(\"\\n\\nРешение системы уравнений:\", x)"
   ]
  },
  {
   "cell_type": "code",
   "execution_count": 283,
   "id": "777f3b9d-0177-4b03-ab53-9544b350ec2d",
   "metadata": {},
   "outputs": [
    {
     "name": "stdout",
     "output_type": "stream",
     "text": [
      "Число обусловленности матрицы A до изменений: 760.6075828440271\n",
      "Число обусловленности матрицы A после изменений: 17079.544671127544 \n",
      "\n"
     ]
    },
    {
     "name": "stderr",
     "output_type": "stream",
     "text": [
      "<>:40: SyntaxWarning: invalid escape sequence '\\ '\n",
      "<>:40: SyntaxWarning: invalid escape sequence '\\ '\n",
      "/tmp/ipykernel_30719/1182028098.py:40: SyntaxWarning: invalid escape sequence '\\ '\n",
      "  print(\"Решение системы уравнений A \\ f:\\n\", x, \"\\n\")\n",
      "/tmp/ipykernel_30719/1182028098.py:40: SyntaxWarning: invalid escape sequence '\\ '\n",
      "  print(\"Решение системы уравнений A \\ f:\\n\", x, \"\\n\")\n"
     ]
    },
    {
     "ename": "TypeError",
     "evalue": "object of type 'numpy.float64' has no len()",
     "output_type": "error",
     "traceback": [
      "\u001b[31m---------------------------------------------------------------------------\u001b[39m",
      "\u001b[31mTypeError\u001b[39m                                 Traceback (most recent call last)",
      "\u001b[36mCell\u001b[39m\u001b[36m \u001b[39m\u001b[32mIn[283]\u001b[39m\u001b[32m, line 21\u001b[39m\n\u001b[32m     18\u001b[39m det_A = np.linalg.det(A)\n\u001b[32m     20\u001b[39m \u001b[38;5;28;01mif\u001b[39;00m (det_A != \u001b[32m0\u001b[39m):\n\u001b[32m---> \u001b[39m\u001b[32m21\u001b[39m     \u001b[43mprod\u001b[49m\u001b[43m(\u001b[49m\u001b[43mA\u001b[49m\u001b[43m,\u001b[49m\u001b[43m \u001b[49m\u001b[43mf\u001b[49m\u001b[43m)\u001b[49m\n\u001b[32m     23\u001b[39m     kramer(A, f)\n\u001b[32m     24\u001b[39m \u001b[38;5;28;01melse\u001b[39;00m:\n",
      "\u001b[36mCell\u001b[39m\u001b[36m \u001b[39m\u001b[32mIn[272]\u001b[39m\u001b[32m, line 4\u001b[39m, in \u001b[36mprod\u001b[39m\u001b[34m(m1, m2)\u001b[39m\n\u001b[32m      3\u001b[39m \u001b[38;5;28;01mdef\u001b[39;00m\u001b[38;5;250m \u001b[39m\u001b[34mprod\u001b[39m(m1, m2):\n\u001b[32m----> \u001b[39m\u001b[32m4\u001b[39m     n, m, p = \u001b[38;5;28mlen\u001b[39m(m1), \u001b[38;5;28mlen\u001b[39m(m1[\u001b[32m0\u001b[39m]), \u001b[38;5;28;43mlen\u001b[39;49m\u001b[43m(\u001b[49m\u001b[43mm2\u001b[49m\u001b[43m[\u001b[49m\u001b[32;43m0\u001b[39;49m\u001b[43m]\u001b[49m\u001b[43m)\u001b[49m\n\u001b[32m      5\u001b[39m     m3 = [[\u001b[32m0\u001b[39m \u001b[38;5;28;01mfor\u001b[39;00m k \u001b[38;5;129;01min\u001b[39;00m \u001b[38;5;28mrange\u001b[39m(p)] \u001b[38;5;28;01mfor\u001b[39;00m i \u001b[38;5;129;01min\u001b[39;00m \u001b[38;5;28mrange\u001b[39m(n)]\n\u001b[32m      6\u001b[39m     \u001b[38;5;28;01mfor\u001b[39;00m i \u001b[38;5;129;01min\u001b[39;00m \u001b[38;5;28mrange\u001b[39m(n):\n",
      "\u001b[31mTypeError\u001b[39m: object of type 'numpy.float64' has no len()"
     ]
    }
   ],
   "source": [
    "# 4\n",
    "\n",
    "n = 20\n",
    "\n",
    "A = np.random.rand(n, n)\n",
    "X = np.random.rand(n)\n",
    "\n",
    "cond_A = np.linalg.cond(A)\n",
    "print('Число обусловленности матрицы A:', cond_A)\n",
    "\n",
    "if (cond_A < 1000):\n",
    "    A[n-1, n-1] = 1000\n",
    "    cond_A = np.linalg.cond(A)\n",
    "    print('Число обусловленности матрицы A:', cond_A, '\\n')\n",
    "\n",
    "f = np.dot(A, X)\n",
    "\n",
    "det_A = np.linalg.det(A)\n",
    "\n",
    "if (det_A != 0):\n",
    "    prod(A, f)\n",
    "    kramer(A, f)\n",
    "else:\n",
    "    print(\"det A = 0\")\n",
    "\n",
    "solution = gauss2(A, f)\n",
    "print(\"Решение системы уравнений обычным методом Гаусса:\\n\", solution, \"\\n\")\n",
    "\n",
    "\n",
    "solution = gauss(A, f)\n",
    "print(\"Решение системы уравнений методом Гаусса с выбором главного элемента:\\n\", solution, \"\\n\")\n",
    "\n",
    "#---------------------------------------\n",
    "\n",
    "x,resid,rank,s = np.linalg.lstsq(A, f, rcond=None)\n",
    "print(\"Решение системы уравнений A \\ f:\\n\", x, \"\\n\")\n",
    "\n",
    "#---------------------------------------\n",
    "\n",
    "A = Matrix(A)\n",
    "f = Matrix(f)\n",
    "M = A.row_join(f)\n",
    "M_rref, pivot_columns = M.rref()\n",
    "solution = M_rref[:, -1]\n",
    "solution = np.array(solution)\n",
    "solution = solution.flatten()\n",
    "print(\"Решение системы уравнений функцией rref:\\n\", solution)"
   ]
  },
  {
   "cell_type": "code",
   "execution_count": null,
   "id": "f2f5b3cb-e9e3-4fd6-a0c7-7371b6a4927c",
   "metadata": {},
   "outputs": [],
   "source": []
  }
 ],
 "metadata": {
  "kernelspec": {
   "display_name": "venv1",
   "language": "python",
   "name": "venv1"
  },
  "language_info": {
   "codemirror_mode": {
    "name": "ipython",
    "version": 3
   },
   "file_extension": ".py",
   "mimetype": "text/x-python",
   "name": "python",
   "nbconvert_exporter": "python",
   "pygments_lexer": "ipython3",
   "version": "3.13.2"
  }
 },
 "nbformat": 4,
 "nbformat_minor": 5
}
