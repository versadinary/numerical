{
 "cells": [
  {
   "cell_type": "code",
   "execution_count": 1,
   "id": "b84b630b-779c-44bb-9492-d427d3ca76ac",
   "metadata": {},
   "outputs": [],
   "source": [
    "import numpy as np\n",
    "from random import randint"
   ]
  },
  {
   "cell_type": "code",
   "execution_count": 2,
   "id": "ad6599fa-18d0-44d9-beb4-c19fef4aff2b",
   "metadata": {},
   "outputs": [],
   "source": [
    "# 1\n",
    "\n",
    "def prod(m1, m2):\n",
    "    n, m, p = len(m1), len(m1[0]), len(m2[0])\n",
    "    m3 = [[0 for k in range(p)] for i in range(n)]\n",
    "    for i in range(n):\n",
    "        for j in range(p):\n",
    "            s = 0\n",
    "            for k in range(m):\n",
    "                s += m1[i][k] * m2[k][j]\n",
    "            m3[i][j] = s\n",
    "    return m3\n",
    "\n",
    "def det(m):\n",
    "    s = 0\n",
    "    a, b = len(m), len(m[0])\n",
    "    if (a == 2): return m[0][0] * m[1][1] - m[1][0] * m[0][1]\n",
    "    for i in range(b):\n",
    "        s += (-1)**(i) * m[0][i] * det([[m[x][y] for y in range(b) if y != i] for x in range(1, a)])\n",
    "    return s\n",
    "\n",
    "def inv(m):\n",
    "    a, b = len(m), len(m[0])\n",
    "    d = det(m)\n",
    "    m_inv = [[0 for k in range(b)] for i in range(a)]\n",
    "    for i in range(a):\n",
    "        for k in range(b):\n",
    "            m_inv[i][k] = (-1)**(i + k) * det([[m[x][y] for y in range(b) if y != k] for x in range(a) if x != i])\n",
    "    return [[m_inv[k][i] / d for k in range(b)] for i in range(a)]\n"
   ]
  },
  {
   "cell_type": "code",
   "execution_count": 3,
   "id": "a0631685-b657-4998-88fa-73fdba23c96f",
   "metadata": {},
   "outputs": [
    {
     "name": "stdout",
     "output_type": "stream",
     "text": [
      "[0.17418715156957382]\n",
      "[0.4799173120814158]\n",
      "[0.021532532644890953]\n",
      "\n",
      "[[0.17418715]\n",
      " [0.47991731]\n",
      " [0.02153253]]\n"
     ]
    }
   ],
   "source": [
    "n = 3\n",
    "A = [[randint(-100, 100) for k in range(n)] for i in range(n)]\n",
    "f = [[randint(-100, 100)] for i in range(n)]\n",
    "\n",
    "# inverse\n",
    "x = prod(inv(A), f)\n",
    "x1 = np.linalg.solve(A, f)\n",
    "print(*x, sep='\\n')\n",
    "print()\n",
    "print(x1)\n"
   ]
  },
  {
   "cell_type": "code",
   "execution_count": 4,
   "id": "e8ab127a-994f-4992-9e16-55a3f84ae601",
   "metadata": {},
   "outputs": [],
   "source": [
    "# kramer\n",
    "\n",
    "def kramer(a, f):\n",
    "    n, m = len(a), len(a[0])\n",
    "    x = [0 for i in range(n)]\n",
    "    d = det(a)\n",
    "    for i in range(m):\n",
    "        x[i] = det([[a[x][y] if y != i else f[x][0] for y in range(m)] for x in range(n)]) / d\n",
    "    return x\n"
   ]
  },
  {
   "cell_type": "code",
   "execution_count": 5,
   "id": "bcefddf1-4d58-41d9-a1b8-a97080705011",
   "metadata": {},
   "outputs": [
    {
     "name": "stdout",
     "output_type": "stream",
     "text": [
      "0.23179552356530875\n",
      "1.4527847587904876\n",
      "-1.470032029276611\n",
      "\n",
      "[0.23179552]\n",
      "[1.45278476]\n",
      "[-1.47003203]\n"
     ]
    }
   ],
   "source": [
    "n = 3\n",
    "A = [[randint(-100, 100) for k in range(n)] for i in range(n)]\n",
    "f = [[randint(-100, 100)] for i in range(n)]\n",
    "\n",
    "\n",
    "x = kramer(A, f)\n",
    "x1 = np.linalg.solve(A, f)\n",
    "print(*x, sep='\\n')\n",
    "print()\n",
    "print(*x1, sep='\\n')\n"
   ]
  },
  {
   "cell_type": "code",
   "execution_count": 114,
   "id": "53b46746-447f-49fb-922b-0bc6a9447f07",
   "metadata": {},
   "outputs": [],
   "source": [
    "# 2\n",
    "            \n",
    "def gauss(a, f):\n",
    "    n = len(a)\n",
    "    for i in range(n - 1):\n",
    "        for j in range(i, n - 1):\n",
    "            tmp = a[j + 1][i]\n",
    "            for k in range(i, n):\n",
    "                a[j + 1][k] += a[i][k] * (-tmp / a[i][i])\n",
    "            f[j + 1][0] += f[i][0] * (-tmp / a[i][i])\n",
    "    \n",
    "    x = [f[-1][0] / a[-1][-1]] + [.0 for i in range(n - 1)]\n",
    "    for i in range(1, n):\n",
    "        numerator = 0\n",
    "        for j in range(i):\n",
    "            numerator += x[j] * a[n - 1 - i][n - 1 - j]\n",
    "        x[i] = (f[n - 1 - i][0] - numerator) / a[n - 1 - i][n - 1 - i]\n",
    "        \n",
    "    return x[::-1]\n",
    "\n",
    "def gauss2(a, f):\n",
    "    n, m = len(a), len(a[0])\n",
    "    for i in range(n):\n",
    "        mx, ind_i, ind_k = 0, 0, 0\n",
    "        \n",
    "        for j in range(i, n):\n",
    "            for k in range(i, m):\n",
    "                if (j == k == i): mx = a[j][k]\n",
    "                if (a[j][k] > mx):\n",
    "                    mx = a[j][k]\n",
    "                    ind_i, ind_k = j, k\n",
    "                    \n",
    "        for j in range(i, m):\n",
    "            tmp = a[i][j]\n",
    "            a[i][j] = a[ind_i][j]\n",
    "            a[ind_i][j] = tmp\n",
    "            tmp = f[i][0]\n",
    "            f[i][0] = f[ind_i][0]\n",
    "            f[ind_i][0] = tmp\n",
    "\n",
    "        for j in range(n):\n",
    "            tmp = a[j][i]\n",
    "            a[j][i] = a[j][ind_k]\n",
    "            a[j][ind_k] = tmp\n",
    "\n",
    "        for i in range(n - 1):\n",
    "            for j in range(i, n - 1):\n",
    "                if (j + 1 < n): tmp = a[j + 1][i]\n",
    "                for k in range(i, n):\n",
    "                    if (j + 1 < n):\n",
    "                        a[j + 1][k] += a[i][k] * (-tmp / a[i][i]) \n",
    "    \n",
    "    return a\n"
   ]
  },
  {
   "cell_type": "code",
   "execution_count": 119,
   "id": "aa743483-d78a-4459-88d8-e0af8dc1d223",
   "metadata": {},
   "outputs": [
    {
     "name": "stdout",
     "output_type": "stream",
     "text": [
      "[[-0.8587182 ]\n",
      " [-0.58110844]\n",
      " [ 0.30932255]\n",
      " [-0.9610326 ]\n",
      " [-0.36770216]]\n",
      "-0.8587182048819672\n",
      "-0.5811084380531242\n",
      "0.30932254982672713\n",
      "-0.9610326044270574\n",
      "-0.36770216114621057\n"
     ]
    }
   ],
   "source": [
    "n = 5\n",
    "A = [[randint(-100, 100) for k in range(n)] for i in range(n)]\n",
    "f = [[randint(-100, 100)] for i in range(n)]\n",
    "print(np.linalg.solve(A, f))\n",
    "print(*gauss(A, f), sep='\\n')"
   ]
  },
  {
   "cell_type": "code",
   "execution_count": null,
   "id": "1365e2ca-a995-4e7f-a688-6c285b64b092",
   "metadata": {},
   "outputs": [],
   "source": [
    "# 3\n",
    "from sympy import Matrix\n",
    "\n",
    "A = Matrix([[2, 1, -1], [-3, -1, 2], [-2, 1, 2]])\n",
    "f = Matrix([8, -11, -3])\n",
    "M = A.row_join(f)\n",
    "\n",
    "M_rref, pivot_columns = M.rref()\n",
    "print(M_rref)\n",
    "solution = M_rref[:, -1]\n",
    "solution = np.array(solution)\n",
    "solution = solution.flatten()\n",
    "print(\"Решение системы уравнений:\", solution)\n",
    "\n",
    "A = np.array([[2, 1, -1], [-3, -1, 2], [-2, 1, 2]])\n",
    "f = np.array([8, -11, -3])\n",
    "x, r, ra, s = np.linalg.lstsq(A, f, rcond=None)\n",
    "print(\"\\n\\nРешение системы уравнений:\", x)"
   ]
  },
  {
   "cell_type": "code",
   "execution_count": null,
   "id": "777f3b9d-0177-4b03-ab53-9544b350ec2d",
   "metadata": {},
   "outputs": [],
   "source": [
    "# 4\n",
    "\n"
   ]
  }
 ],
 "metadata": {
  "kernelspec": {
   "display_name": "venv1",
   "language": "python",
   "name": "venv1"
  },
  "language_info": {
   "codemirror_mode": {
    "name": "ipython",
    "version": 3
   },
   "file_extension": ".py",
   "mimetype": "text/x-python",
   "name": "python",
   "nbconvert_exporter": "python",
   "pygments_lexer": "ipython3",
   "version": "3.13.2"
  }
 },
 "nbformat": 4,
 "nbformat_minor": 5
}
