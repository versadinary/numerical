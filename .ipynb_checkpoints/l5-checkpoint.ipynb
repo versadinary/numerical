{
 "cells": [
  {
   "cell_type": "code",
   "execution_count": 1,
   "id": "9cd8bc57-bdbf-4f13-b5c9-6508e1e7d24a",
   "metadata": {},
   "outputs": [],
   "source": [
    "import matplotlib.pyplot as plt\n",
    "import numpy as np\n",
    "import math"
   ]
  },
  {
   "cell_type": "code",
   "execution_count": 21,
   "id": "2c6e2dae-8e5a-447b-baf5-490f77bb09f7",
   "metadata": {},
   "outputs": [
    {
     "name": "stdout",
     "output_type": "stream",
     "text": [
      "f\n",
      "tr 0.25\n",
      "sim 0.0 \n",
      "\n",
      "f1\n",
      "tr 0.0\n",
      "sim 0.0\n",
      "f2\n",
      "tr 0.16666666666666669\n",
      "sim 0.0\n"
     ]
    }
   ],
   "source": [
    "def f(x):\n",
    "    return x**3\n",
    "\n",
    "a, b = 0, 1\n",
    "tr = (b - a) * (f(b) + f(a)) / 2\n",
    "sim = ((b - a) / 6) * (f(a) + 4 * f((a + b) / 2) + f(b))\n",
    "print('f')\n",
    "print('tr', np.abs(tr - 0.25))\n",
    "print('sim', np.abs(sim - 0.25), '\\n')\n",
    "\n",
    "def f1(x):\n",
    "    return x / 2\n",
    "\n",
    "def f2(x):\n",
    "    return x**2\n",
    "\n",
    "tr = (b - a) * (f1(b) + f1(a)) / 2\n",
    "sim = ((b - a) / 6) * (f1(a) + 4 * f1((a + b) / 2) + f1(b))\n",
    "print('f1')\n",
    "print('tr', np.abs(tr - 1 / 4))\n",
    "print('sim', np.abs(sim - 1 / 4))\n",
    "\n",
    "tr = (b - a) * (f2(b) + f2(a)) / 2\n",
    "sim = ((b - a) / 6) * (f2(a) + 4 * f2((a + b) / 2) + f2(b))\n",
    "print('f2')\n",
    "print('tr', np.abs(tr - 1 / 3))\n",
    "print('sim', np.abs(sim - 1 / 3))"
   ]
  },
  {
   "cell_type": "code",
   "execution_count": null,
   "id": "ca03de51-81e3-4776-8827-69fcce7c96a0",
   "metadata": {},
   "outputs": [],
   "source": []
  }
 ],
 "metadata": {
  "kernelspec": {
   "display_name": "venv1",
   "language": "python",
   "name": "venv1"
  },
  "language_info": {
   "codemirror_mode": {
    "name": "ipython",
    "version": 3
   },
   "file_extension": ".py",
   "mimetype": "text/x-python",
   "name": "python",
   "nbconvert_exporter": "python",
   "pygments_lexer": "ipython3",
   "version": "3.13.2"
  }
 },
 "nbformat": 4,
 "nbformat_minor": 5
}
